{
 "cells": [
  {
   "cell_type": "code",
   "execution_count": 105,
   "metadata": {},
   "outputs": [],
   "source": [
    "import pandas as pd\n",
    "import numpy as np\n",
    "from sklearn.linear_model import LinearRegression"
   ]
  },
  {
   "cell_type": "code",
   "execution_count": 106,
   "metadata": {},
   "outputs": [],
   "source": [
    "EDA = pd.read_csv(\"../data/clean/full_dataset.csv\")"
   ]
  },
  {
   "cell_type": "code",
   "execution_count": 107,
   "metadata": {},
   "outputs": [
    {
     "data": {
      "text/html": [
       "<div>\n",
       "<style scoped>\n",
       "    .dataframe tbody tr th:only-of-type {\n",
       "        vertical-align: middle;\n",
       "    }\n",
       "\n",
       "    .dataframe tbody tr th {\n",
       "        vertical-align: top;\n",
       "    }\n",
       "\n",
       "    .dataframe thead th {\n",
       "        text-align: right;\n",
       "    }\n",
       "</style>\n",
       "<table border=\"1\" class=\"dataframe\">\n",
       "  <thead>\n",
       "    <tr style=\"text-align: right;\">\n",
       "      <th></th>\n",
       "      <th>ID Number</th>\n",
       "      <th>Preferred Pronouns</th>\n",
       "      <th>Current Grade Level</th>\n",
       "      <th>Program</th>\n",
       "      <th>First Paying Job</th>\n",
       "      <th>Know employee</th>\n",
       "      <th>Applied Before</th>\n",
       "      <th>Comfortable speaking to crowd</th>\n",
       "      <th>Uncomfortable with</th>\n",
       "      <th>Extra activities</th>\n",
       "      <th>...</th>\n",
       "      <th>Application Year</th>\n",
       "      <th>Current Age</th>\n",
       "      <th>Rejected</th>\n",
       "      <th>EECode</th>\n",
       "      <th>EarnHours</th>\n",
       "      <th>EarnRate</th>\n",
       "      <th>EarnAmount</th>\n",
       "      <th>Dist Position Desc</th>\n",
       "      <th>Year</th>\n",
       "      <th>Month</th>\n",
       "    </tr>\n",
       "  </thead>\n",
       "  <tbody>\n",
       "    <tr>\n",
       "      <th>0</th>\n",
       "      <td>1489.0</td>\n",
       "      <td>masculine</td>\n",
       "      <td>9.0</td>\n",
       "      <td>zoocamp</td>\n",
       "      <td>1</td>\n",
       "      <td>0</td>\n",
       "      <td>0</td>\n",
       "      <td>1.0</td>\n",
       "      <td>invertebrates</td>\n",
       "      <td>0</td>\n",
       "      <td>...</td>\n",
       "      <td>2022</td>\n",
       "      <td>NaN</td>\n",
       "      <td>0</td>\n",
       "      <td>1489.0</td>\n",
       "      <td>5.50</td>\n",
       "      <td>13.0</td>\n",
       "      <td>71.50</td>\n",
       "      <td>WILD Steward</td>\n",
       "      <td>2022.0</td>\n",
       "      <td>4.0</td>\n",
       "    </tr>\n",
       "    <tr>\n",
       "      <th>1</th>\n",
       "      <td>1489.0</td>\n",
       "      <td>masculine</td>\n",
       "      <td>9.0</td>\n",
       "      <td>zoocamp</td>\n",
       "      <td>1</td>\n",
       "      <td>0</td>\n",
       "      <td>0</td>\n",
       "      <td>1.0</td>\n",
       "      <td>invertebrates</td>\n",
       "      <td>0</td>\n",
       "      <td>...</td>\n",
       "      <td>2022</td>\n",
       "      <td>NaN</td>\n",
       "      <td>0</td>\n",
       "      <td>1489.0</td>\n",
       "      <td>14.47</td>\n",
       "      <td>13.0</td>\n",
       "      <td>188.11</td>\n",
       "      <td>WILD Steward</td>\n",
       "      <td>2022.0</td>\n",
       "      <td>5.0</td>\n",
       "    </tr>\n",
       "    <tr>\n",
       "      <th>2</th>\n",
       "      <td>1489.0</td>\n",
       "      <td>masculine</td>\n",
       "      <td>9.0</td>\n",
       "      <td>zoocamp</td>\n",
       "      <td>1</td>\n",
       "      <td>0</td>\n",
       "      <td>0</td>\n",
       "      <td>1.0</td>\n",
       "      <td>invertebrates</td>\n",
       "      <td>0</td>\n",
       "      <td>...</td>\n",
       "      <td>2022</td>\n",
       "      <td>NaN</td>\n",
       "      <td>0</td>\n",
       "      <td>1489.0</td>\n",
       "      <td>7.13</td>\n",
       "      <td>13.0</td>\n",
       "      <td>92.69</td>\n",
       "      <td>WILD Steward</td>\n",
       "      <td>2022.0</td>\n",
       "      <td>5.0</td>\n",
       "    </tr>\n",
       "    <tr>\n",
       "      <th>3</th>\n",
       "      <td>1489.0</td>\n",
       "      <td>masculine</td>\n",
       "      <td>9.0</td>\n",
       "      <td>zoocamp</td>\n",
       "      <td>1</td>\n",
       "      <td>0</td>\n",
       "      <td>0</td>\n",
       "      <td>1.0</td>\n",
       "      <td>invertebrates</td>\n",
       "      <td>0</td>\n",
       "      <td>...</td>\n",
       "      <td>2022</td>\n",
       "      <td>NaN</td>\n",
       "      <td>0</td>\n",
       "      <td>1489.0</td>\n",
       "      <td>130.38</td>\n",
       "      <td>13.0</td>\n",
       "      <td>1694.94</td>\n",
       "      <td>WILD Steward</td>\n",
       "      <td>2022.0</td>\n",
       "      <td>6.0</td>\n",
       "    </tr>\n",
       "    <tr>\n",
       "      <th>4</th>\n",
       "      <td>1489.0</td>\n",
       "      <td>masculine</td>\n",
       "      <td>9.0</td>\n",
       "      <td>zoocamp</td>\n",
       "      <td>1</td>\n",
       "      <td>0</td>\n",
       "      <td>0</td>\n",
       "      <td>1.0</td>\n",
       "      <td>invertebrates</td>\n",
       "      <td>0</td>\n",
       "      <td>...</td>\n",
       "      <td>2022</td>\n",
       "      <td>NaN</td>\n",
       "      <td>0</td>\n",
       "      <td>1489.0</td>\n",
       "      <td>123.80</td>\n",
       "      <td>13.0</td>\n",
       "      <td>1609.40</td>\n",
       "      <td>WILD Steward</td>\n",
       "      <td>2022.0</td>\n",
       "      <td>7.0</td>\n",
       "    </tr>\n",
       "  </tbody>\n",
       "</table>\n",
       "<p>5 rows × 23 columns</p>\n",
       "</div>"
      ],
      "text/plain": [
       "   ID Number Preferred Pronouns  Current Grade Level  Program  \\\n",
       "0     1489.0          masculine                  9.0  zoocamp   \n",
       "1     1489.0          masculine                  9.0  zoocamp   \n",
       "2     1489.0          masculine                  9.0  zoocamp   \n",
       "3     1489.0          masculine                  9.0  zoocamp   \n",
       "4     1489.0          masculine                  9.0  zoocamp   \n",
       "\n",
       "   First Paying Job  Know employee  Applied Before  \\\n",
       "0                 1              0               0   \n",
       "1                 1              0               0   \n",
       "2                 1              0               0   \n",
       "3                 1              0               0   \n",
       "4                 1              0               0   \n",
       "\n",
       "   Comfortable speaking to crowd Uncomfortable with  Extra activities  ...  \\\n",
       "0                            1.0      invertebrates                 0  ...   \n",
       "1                            1.0      invertebrates                 0  ...   \n",
       "2                            1.0      invertebrates                 0  ...   \n",
       "3                            1.0      invertebrates                 0  ...   \n",
       "4                            1.0      invertebrates                 0  ...   \n",
       "\n",
       "  Application Year Current Age Rejected  EECode  EarnHours  EarnRate  \\\n",
       "0             2022         NaN        0  1489.0       5.50      13.0   \n",
       "1             2022         NaN        0  1489.0      14.47      13.0   \n",
       "2             2022         NaN        0  1489.0       7.13      13.0   \n",
       "3             2022         NaN        0  1489.0     130.38      13.0   \n",
       "4             2022         NaN        0  1489.0     123.80      13.0   \n",
       "\n",
       "   EarnAmount  Dist Position Desc    Year  Month  \n",
       "0       71.50        WILD Steward  2022.0    4.0  \n",
       "1      188.11        WILD Steward  2022.0    5.0  \n",
       "2       92.69        WILD Steward  2022.0    5.0  \n",
       "3     1694.94        WILD Steward  2022.0    6.0  \n",
       "4     1609.40        WILD Steward  2022.0    7.0  \n",
       "\n",
       "[5 rows x 23 columns]"
      ]
     },
     "execution_count": 107,
     "metadata": {},
     "output_type": "execute_result"
    }
   ],
   "source": [
    "EDA.head()"
   ]
  },
  {
   "cell_type": "code",
   "execution_count": null,
   "metadata": {},
   "outputs": [],
   "source": [
    "EDA.columns"
   ]
  },
  {
   "cell_type": "code",
   "execution_count": null,
   "metadata": {},
   "outputs": [
    {
     "data": {
      "text/plain": [
       "array([2, 1, 0], dtype=int64)"
      ]
     },
     "execution_count": 89,
     "metadata": {},
     "output_type": "execute_result"
    }
   ],
   "source": [
    "\n",
    "\n",
    "EDA['Commit Summer'] = EDA['Commit Summer'].fillna('no').map({'yes':2,'no':0, 'unsure':1})\n",
    "EDA['Commit Summer'].unique()"
   ]
  },
  {
   "cell_type": "code",
   "execution_count": null,
   "metadata": {},
   "outputs": [
    {
     "data": {
      "text/plain": [
       "array([2, 1, 0], dtype=int64)"
      ]
     },
     "execution_count": 90,
     "metadata": {},
     "output_type": "execute_result"
    }
   ],
   "source": [
    "EDA['Commit Weekday'].unique()\n",
    "EDA['Commit Weekday'] = EDA['Commit Weekday'].fillna('no').map({'yes':2,'no':0, 'unsure':1})\n",
    "EDA['Commit Weekday'].unique()"
   ]
  },
  {
   "cell_type": "code",
   "execution_count": null,
   "metadata": {},
   "outputs": [
    {
     "data": {
      "text/plain": [
       "array([1, 2, 0], dtype=int64)"
      ]
     },
     "execution_count": 91,
     "metadata": {},
     "output_type": "execute_result"
    }
   ],
   "source": [
    "EDA['Hear about source'].unique()\n",
    "EDA['Hear about source'] = EDA['Hear about source'].fillna('no').map({'no':0, 'other':1, 'friend':2, 'school':2,\n",
    "'social media':1, 'family':2})\n",
    "EDA['Hear about source'].unique()"
   ]
  },
  {
   "cell_type": "code",
   "execution_count": null,
   "metadata": {},
   "outputs": [
    {
     "data": {
      "text/plain": [
       "array([1., 0.])"
      ]
     },
     "execution_count": 92,
     "metadata": {},
     "output_type": "execute_result"
    }
   ],
   "source": [
    "EDA['EarnHours'] = EDA['EarnHours'].fillna(0)\n",
    "EDA['Current Grade Level'] = EDA['Current Grade Level'].fillna(0)\n",
    "EDA['Comfortable speaking to crowd'] = EDA['Comfortable speaking to crowd'].fillna(0)\n",
    "EDA['Comfortable speaking to crowd'].unique()"
   ]
  },
  {
   "cell_type": "code",
   "execution_count": null,
   "metadata": {},
   "outputs": [
    {
     "data": {
      "text/html": [
       "<div>\n",
       "<style scoped>\n",
       "    .dataframe tbody tr th:only-of-type {\n",
       "        vertical-align: middle;\n",
       "    }\n",
       "\n",
       "    .dataframe tbody tr th {\n",
       "        vertical-align: top;\n",
       "    }\n",
       "\n",
       "    .dataframe thead th {\n",
       "        text-align: right;\n",
       "    }\n",
       "</style>\n",
       "<table border=\"1\" class=\"dataframe\">\n",
       "  <thead>\n",
       "    <tr style=\"text-align: right;\">\n",
       "      <th></th>\n",
       "      <th>Current Grade Level</th>\n",
       "      <th>First Paying Job</th>\n",
       "      <th>Know employee</th>\n",
       "      <th>Applied Before</th>\n",
       "      <th>Comfortable speaking to crowd</th>\n",
       "      <th>Extra activities</th>\n",
       "      <th>Commit Summer</th>\n",
       "      <th>Commit Weekday</th>\n",
       "      <th>Hear about source</th>\n",
       "    </tr>\n",
       "  </thead>\n",
       "  <tbody>\n",
       "    <tr>\n",
       "      <th>0</th>\n",
       "      <td>9.0</td>\n",
       "      <td>1</td>\n",
       "      <td>0</td>\n",
       "      <td>0</td>\n",
       "      <td>1.0</td>\n",
       "      <td>0</td>\n",
       "      <td>2</td>\n",
       "      <td>2</td>\n",
       "      <td>1</td>\n",
       "    </tr>\n",
       "    <tr>\n",
       "      <th>1</th>\n",
       "      <td>9.0</td>\n",
       "      <td>1</td>\n",
       "      <td>0</td>\n",
       "      <td>0</td>\n",
       "      <td>1.0</td>\n",
       "      <td>0</td>\n",
       "      <td>2</td>\n",
       "      <td>2</td>\n",
       "      <td>1</td>\n",
       "    </tr>\n",
       "    <tr>\n",
       "      <th>2</th>\n",
       "      <td>9.0</td>\n",
       "      <td>1</td>\n",
       "      <td>0</td>\n",
       "      <td>0</td>\n",
       "      <td>1.0</td>\n",
       "      <td>0</td>\n",
       "      <td>2</td>\n",
       "      <td>2</td>\n",
       "      <td>1</td>\n",
       "    </tr>\n",
       "    <tr>\n",
       "      <th>3</th>\n",
       "      <td>9.0</td>\n",
       "      <td>1</td>\n",
       "      <td>0</td>\n",
       "      <td>0</td>\n",
       "      <td>1.0</td>\n",
       "      <td>0</td>\n",
       "      <td>2</td>\n",
       "      <td>2</td>\n",
       "      <td>1</td>\n",
       "    </tr>\n",
       "    <tr>\n",
       "      <th>4</th>\n",
       "      <td>9.0</td>\n",
       "      <td>1</td>\n",
       "      <td>0</td>\n",
       "      <td>0</td>\n",
       "      <td>1.0</td>\n",
       "      <td>0</td>\n",
       "      <td>2</td>\n",
       "      <td>2</td>\n",
       "      <td>1</td>\n",
       "    </tr>\n",
       "    <tr>\n",
       "      <th>...</th>\n",
       "      <td>...</td>\n",
       "      <td>...</td>\n",
       "      <td>...</td>\n",
       "      <td>...</td>\n",
       "      <td>...</td>\n",
       "      <td>...</td>\n",
       "      <td>...</td>\n",
       "      <td>...</td>\n",
       "      <td>...</td>\n",
       "    </tr>\n",
       "    <tr>\n",
       "      <th>778</th>\n",
       "      <td>11.0</td>\n",
       "      <td>0</td>\n",
       "      <td>1</td>\n",
       "      <td>0</td>\n",
       "      <td>0.0</td>\n",
       "      <td>0</td>\n",
       "      <td>2</td>\n",
       "      <td>2</td>\n",
       "      <td>2</td>\n",
       "    </tr>\n",
       "    <tr>\n",
       "      <th>779</th>\n",
       "      <td>10.0</td>\n",
       "      <td>1</td>\n",
       "      <td>0</td>\n",
       "      <td>0</td>\n",
       "      <td>1.0</td>\n",
       "      <td>0</td>\n",
       "      <td>2</td>\n",
       "      <td>2</td>\n",
       "      <td>1</td>\n",
       "    </tr>\n",
       "    <tr>\n",
       "      <th>780</th>\n",
       "      <td>10.0</td>\n",
       "      <td>1</td>\n",
       "      <td>0</td>\n",
       "      <td>0</td>\n",
       "      <td>1.0</td>\n",
       "      <td>0</td>\n",
       "      <td>0</td>\n",
       "      <td>2</td>\n",
       "      <td>2</td>\n",
       "    </tr>\n",
       "    <tr>\n",
       "      <th>781</th>\n",
       "      <td>10.0</td>\n",
       "      <td>1</td>\n",
       "      <td>1</td>\n",
       "      <td>0</td>\n",
       "      <td>0.0</td>\n",
       "      <td>0</td>\n",
       "      <td>2</td>\n",
       "      <td>2</td>\n",
       "      <td>2</td>\n",
       "    </tr>\n",
       "    <tr>\n",
       "      <th>782</th>\n",
       "      <td>10.0</td>\n",
       "      <td>0</td>\n",
       "      <td>0</td>\n",
       "      <td>0</td>\n",
       "      <td>0.0</td>\n",
       "      <td>0</td>\n",
       "      <td>2</td>\n",
       "      <td>2</td>\n",
       "      <td>2</td>\n",
       "    </tr>\n",
       "  </tbody>\n",
       "</table>\n",
       "<p>783 rows × 9 columns</p>\n",
       "</div>"
      ],
      "text/plain": [
       "     Current Grade Level  First Paying Job  Know employee  Applied Before  \\\n",
       "0                    9.0                 1              0               0   \n",
       "1                    9.0                 1              0               0   \n",
       "2                    9.0                 1              0               0   \n",
       "3                    9.0                 1              0               0   \n",
       "4                    9.0                 1              0               0   \n",
       "..                   ...               ...            ...             ...   \n",
       "778                 11.0                 0              1               0   \n",
       "779                 10.0                 1              0               0   \n",
       "780                 10.0                 1              0               0   \n",
       "781                 10.0                 1              1               0   \n",
       "782                 10.0                 0              0               0   \n",
       "\n",
       "     Comfortable speaking to crowd  Extra activities  Commit Summer  \\\n",
       "0                              1.0                 0              2   \n",
       "1                              1.0                 0              2   \n",
       "2                              1.0                 0              2   \n",
       "3                              1.0                 0              2   \n",
       "4                              1.0                 0              2   \n",
       "..                             ...               ...            ...   \n",
       "778                            0.0                 0              2   \n",
       "779                            1.0                 0              2   \n",
       "780                            1.0                 0              0   \n",
       "781                            0.0                 0              2   \n",
       "782                            0.0                 0              2   \n",
       "\n",
       "     Commit Weekday  Hear about source  \n",
       "0                 2                  1  \n",
       "1                 2                  1  \n",
       "2                 2                  1  \n",
       "3                 2                  1  \n",
       "4                 2                  1  \n",
       "..              ...                ...  \n",
       "778               2                  2  \n",
       "779               2                  1  \n",
       "780               2                  2  \n",
       "781               2                  2  \n",
       "782               2                  2  \n",
       "\n",
       "[783 rows x 9 columns]"
      ]
     },
     "execution_count": 93,
     "metadata": {},
     "output_type": "execute_result"
    }
   ],
   "source": [
    "X = EDA[['Current Grade Level', 'First Paying Job', 'Know employee', 'Applied Before',\n",
    "'Comfortable speaking to crowd','Extra activities','Commit Summer', 'Commit Weekday',\n",
    " 'Hear about source', \n",
    "]]\n",
    "X"
   ]
  },
  {
   "cell_type": "code",
   "execution_count": null,
   "metadata": {},
   "outputs": [
    {
     "data": {
      "text/html": [
       "<div>\n",
       "<style scoped>\n",
       "    .dataframe tbody tr th:only-of-type {\n",
       "        vertical-align: middle;\n",
       "    }\n",
       "\n",
       "    .dataframe tbody tr th {\n",
       "        vertical-align: top;\n",
       "    }\n",
       "\n",
       "    .dataframe thead th {\n",
       "        text-align: right;\n",
       "    }\n",
       "</style>\n",
       "<table border=\"1\" class=\"dataframe\">\n",
       "  <thead>\n",
       "    <tr style=\"text-align: right;\">\n",
       "      <th></th>\n",
       "      <th>EarnHours</th>\n",
       "    </tr>\n",
       "  </thead>\n",
       "  <tbody>\n",
       "    <tr>\n",
       "      <th>0</th>\n",
       "      <td>5.50</td>\n",
       "    </tr>\n",
       "    <tr>\n",
       "      <th>1</th>\n",
       "      <td>14.47</td>\n",
       "    </tr>\n",
       "    <tr>\n",
       "      <th>2</th>\n",
       "      <td>7.13</td>\n",
       "    </tr>\n",
       "    <tr>\n",
       "      <th>3</th>\n",
       "      <td>130.38</td>\n",
       "    </tr>\n",
       "    <tr>\n",
       "      <th>4</th>\n",
       "      <td>123.80</td>\n",
       "    </tr>\n",
       "    <tr>\n",
       "      <th>...</th>\n",
       "      <td>...</td>\n",
       "    </tr>\n",
       "    <tr>\n",
       "      <th>778</th>\n",
       "      <td>0.00</td>\n",
       "    </tr>\n",
       "    <tr>\n",
       "      <th>779</th>\n",
       "      <td>0.00</td>\n",
       "    </tr>\n",
       "    <tr>\n",
       "      <th>780</th>\n",
       "      <td>0.00</td>\n",
       "    </tr>\n",
       "    <tr>\n",
       "      <th>781</th>\n",
       "      <td>0.00</td>\n",
       "    </tr>\n",
       "    <tr>\n",
       "      <th>782</th>\n",
       "      <td>0.00</td>\n",
       "    </tr>\n",
       "  </tbody>\n",
       "</table>\n",
       "<p>783 rows × 1 columns</p>\n",
       "</div>"
      ],
      "text/plain": [
       "     EarnHours\n",
       "0         5.50\n",
       "1        14.47\n",
       "2         7.13\n",
       "3       130.38\n",
       "4       123.80\n",
       "..         ...\n",
       "778       0.00\n",
       "779       0.00\n",
       "780       0.00\n",
       "781       0.00\n",
       "782       0.00\n",
       "\n",
       "[783 rows x 1 columns]"
      ]
     },
     "execution_count": 94,
     "metadata": {},
     "output_type": "execute_result"
    }
   ],
   "source": [
    "\n",
    "y =  EDA[['EarnHours']]\n",
    "y"
   ]
  },
  {
   "cell_type": "code",
   "execution_count": null,
   "metadata": {},
   "outputs": [],
   "source": [
    "from sklearn.model_selection import train_test_split\n",
    "X_train, X_test, y_train, y_test = train_test_split( X, y, test_size=0.3, random_state=42)"
   ]
  },
  {
   "cell_type": "code",
   "execution_count": null,
   "metadata": {},
   "outputs": [
    {
     "data": {
      "text/plain": [
       "LinearRegression()"
      ]
     },
     "execution_count": 96,
     "metadata": {},
     "output_type": "execute_result"
    }
   ],
   "source": [
    "model = LinearRegression()\n",
    "model.fit(X_train, y_train)"
   ]
  },
  {
   "cell_type": "code",
   "execution_count": null,
   "metadata": {},
   "outputs": [
    {
     "data": {
      "text/plain": [
       "array([[-0.5204772 ,  1.62813134,  2.13729355, -1.57143812, 11.34964398,\n",
       "         4.52874142,  9.4510752 , 11.5338897 , -6.83498031]])"
      ]
     },
     "execution_count": 97,
     "metadata": {},
     "output_type": "execute_result"
    }
   ],
   "source": [
    "model.coef_"
   ]
  },
  {
   "cell_type": "code",
   "execution_count": null,
   "metadata": {},
   "outputs": [
    {
     "data": {
      "image/png": "[encoded data removed]",
      "text/plain": [
       "<Figure size 900x700 with 1 Axes>"
      ]
     },
     "metadata": {},
     "output_type": "display_data"
    }
   ],
   "source": [
    "import matplotlib.pyplot as plt\n",
    "\n",
    "coefs = pd.DataFrame(\n",
    "   model.coef_.transpose(),\n",
    "   columns=['Coefficients'], index=X_train.columns\n",
    ")\n",
    "coefs = coefs.sort_values(by=['Coefficients'])\n",
    "coefs.plot(kind='barh', figsize=(9, 7))\n",
    "plt.title('Feature importance')\n",
    "plt.axvline(x=0, color='.5')\n",
    "plt.subplots_adjust(left=.3)\n",
    "\n"
   ]
  },
  {
   "cell_type": "code",
   "execution_count": null,
   "metadata": {},
   "outputs": [
    {
     "ename": "TypeError",
     "evalue": "'>' not supported between instances of 'str' and 'numpy.ndarray'",
     "output_type": "error",
     "traceback": [
      "\u001b[1;31m---------------------------------------------------------------------------\u001b[0m",
      "\u001b[1;31mTypeError\u001b[0m                                 Traceback (most recent call last)",
      "Cell \u001b[1;32mIn [104], line 8\u001b[0m\n\u001b[0;32m      5\u001b[0m plt\u001b[39m.\u001b[39mfigure(figsize\u001b[39m=\u001b[39m(\u001b[39m10\u001b[39m,\u001b[39m10\u001b[39m))\n\u001b[0;32m      6\u001b[0m plt\u001b[39m.\u001b[39mscatter(y_test, pred, c\u001b[39m=\u001b[39m\u001b[39m'\u001b[39m\u001b[39mcrimson\u001b[39m\u001b[39m'\u001b[39m)\n\u001b[1;32m----> 8\u001b[0m p1 \u001b[39m=\u001b[39m \u001b[39mmax\u001b[39;49m(\u001b[39mmax\u001b[39;49m(pred), \u001b[39mmax\u001b[39;49m(y_test))\n\u001b[0;32m      9\u001b[0m p2 \u001b[39m=\u001b[39m \u001b[39mmin\u001b[39m(\u001b[39mmin\u001b[39m(pred), \u001b[39mmin\u001b[39m(y_test))\n\u001b[0;32m     10\u001b[0m plt\u001b[39m.\u001b[39mplot([p1, p2], [p1, p2], \u001b[39m'\u001b[39m\u001b[39mb-\u001b[39m\u001b[39m'\u001b[39m)\n",
      "\u001b[1;31mTypeError\u001b[0m: '>' not supported between instances of 'str' and 'numpy.ndarray'"
     ]
    },
    {
     "data": {
      "image/png": "[encoded data removed]",
      "text/plain": [
       "<Figure size 1000x1000 with 1 Axes>"
      ]
     },
     "metadata": {},
     "output_type": "display_data"
    }
   ],
   "source": []
  }
 ],
 "metadata": {
  "kernelspec": {
   "display_name": "Substrate AI",
   "language": "python",
   "name": "substrate-ai"
  },
  "language_info": {
   "codemirror_mode": {
    "name": "ipython",
    "version": 3
   },
   "file_extension": ".py",
   "mimetype": "text/x-python",
   "name": "python",
   "nbconvert_exporter": "python",
   "pygments_lexer": "ipython3",
   "version": "3.8.13"
  },
  "orig_nbformat": 4,
  "vscode": {
   "interpreter": {
    "hash": "b6068f22bb9bd6d9ac1a960efe4abb675ac63a4be4d15f9e59e4c1798cfc5d8e"
   }
  }
 },
 "nbformat": 4,
 "nbformat_minor": 2
}

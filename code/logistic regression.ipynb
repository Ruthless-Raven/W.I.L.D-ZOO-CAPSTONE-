{
 "cells": [
  {
   "cell_type": "markdown",
   "metadata": {},
   "source": [
    "# This notebook uses logistic regression to determine the impact of application responses on acceptance"
   ]
  },
  {
   "cell_type": "code",
   "execution_count": 309,
   "metadata": {},
   "outputs": [],
   "source": [
    "import pandas as pd\n",
    "import numpy as np\n",
    "\n",
    "from sklearn.linear_model import LinearRegression, LogisticRegression, LogisticRegressionCV\n",
    "from sklearn import linear_model\n",
    "import statsmodels.api as sm\n",
    "from statsmodels.graphics.gofplots import ProbPlot\n",
    "from sklearn.preprocessing import LabelEncoder\n",
    "from sklearn.preprocessing import OneHotEncoder\n",
    "from sklearn.model_selection import train_test_split\n",
    "import matplotlib.pyplot as plt\n",
    "from sklearn.utils import resample\n",
    "\n",
    "from sklearn.metrics import roc_auc_score, classification_report\n",
    "\n",
    "import seaborn as sns\n",
    "import imblearn"
   ]
  },
  {
   "cell_type": "markdown",
   "metadata": {},
   "source": [
    "## Load data"
   ]
  },
  {
   "cell_type": "code",
   "execution_count": 267,
   "metadata": {},
   "outputs": [],
   "source": [
    "data = pd.read_csv(\"../data/clean/model_data.csv\")"
   ]
  },
  {
   "cell_type": "code",
   "execution_count": 268,
   "metadata": {},
   "outputs": [
    {
     "data": {
      "text/html": [
       "<div>\n",
       "<style scoped>\n",
       "    .dataframe tbody tr th:only-of-type {\n",
       "        vertical-align: middle;\n",
       "    }\n",
       "\n",
       "    .dataframe tbody tr th {\n",
       "        vertical-align: top;\n",
       "    }\n",
       "\n",
       "    .dataframe thead th {\n",
       "        text-align: right;\n",
       "    }\n",
       "</style>\n",
       "<table border=\"1\" class=\"dataframe\">\n",
       "  <thead>\n",
       "    <tr style=\"text-align: right;\">\n",
       "      <th></th>\n",
       "      <th>ID Number</th>\n",
       "      <th>Preferred Pronouns</th>\n",
       "      <th>Current Grade Level</th>\n",
       "      <th>Program</th>\n",
       "      <th>First Paying Job</th>\n",
       "      <th>Know employee</th>\n",
       "      <th>Applied Before</th>\n",
       "      <th>Comfortable speaking to crowd</th>\n",
       "      <th>Uncomfortable with</th>\n",
       "      <th>Extra activities</th>\n",
       "      <th>...</th>\n",
       "      <th>Application Year</th>\n",
       "      <th>Current Age</th>\n",
       "      <th>Rejected</th>\n",
       "      <th>EECode</th>\n",
       "      <th>EarnHours</th>\n",
       "      <th>EarnRate</th>\n",
       "      <th>EarnAmount</th>\n",
       "      <th>Dist Position Desc</th>\n",
       "      <th>Year</th>\n",
       "      <th>Month</th>\n",
       "    </tr>\n",
       "  </thead>\n",
       "  <tbody>\n",
       "    <tr>\n",
       "      <th>0</th>\n",
       "      <td>1489.0</td>\n",
       "      <td>masculine</td>\n",
       "      <td>9.0</td>\n",
       "      <td>zoocamp</td>\n",
       "      <td>1</td>\n",
       "      <td>0</td>\n",
       "      <td>0</td>\n",
       "      <td>1.0</td>\n",
       "      <td>invertebrates</td>\n",
       "      <td>0</td>\n",
       "      <td>...</td>\n",
       "      <td>2022</td>\n",
       "      <td>NaN</td>\n",
       "      <td>0</td>\n",
       "      <td>1489.0</td>\n",
       "      <td>5.50</td>\n",
       "      <td>13.0</td>\n",
       "      <td>71.50</td>\n",
       "      <td>WILD Steward</td>\n",
       "      <td>2022.0</td>\n",
       "      <td>4.0</td>\n",
       "    </tr>\n",
       "    <tr>\n",
       "      <th>1</th>\n",
       "      <td>1489.0</td>\n",
       "      <td>masculine</td>\n",
       "      <td>9.0</td>\n",
       "      <td>zoocamp</td>\n",
       "      <td>1</td>\n",
       "      <td>0</td>\n",
       "      <td>0</td>\n",
       "      <td>1.0</td>\n",
       "      <td>invertebrates</td>\n",
       "      <td>0</td>\n",
       "      <td>...</td>\n",
       "      <td>2022</td>\n",
       "      <td>NaN</td>\n",
       "      <td>0</td>\n",
       "      <td>1489.0</td>\n",
       "      <td>14.47</td>\n",
       "      <td>13.0</td>\n",
       "      <td>188.11</td>\n",
       "      <td>WILD Steward</td>\n",
       "      <td>2022.0</td>\n",
       "      <td>5.0</td>\n",
       "    </tr>\n",
       "    <tr>\n",
       "      <th>2</th>\n",
       "      <td>1489.0</td>\n",
       "      <td>masculine</td>\n",
       "      <td>9.0</td>\n",
       "      <td>zoocamp</td>\n",
       "      <td>1</td>\n",
       "      <td>0</td>\n",
       "      <td>0</td>\n",
       "      <td>1.0</td>\n",
       "      <td>invertebrates</td>\n",
       "      <td>0</td>\n",
       "      <td>...</td>\n",
       "      <td>2022</td>\n",
       "      <td>NaN</td>\n",
       "      <td>0</td>\n",
       "      <td>1489.0</td>\n",
       "      <td>7.13</td>\n",
       "      <td>13.0</td>\n",
       "      <td>92.69</td>\n",
       "      <td>WILD Steward</td>\n",
       "      <td>2022.0</td>\n",
       "      <td>5.0</td>\n",
       "    </tr>\n",
       "    <tr>\n",
       "      <th>3</th>\n",
       "      <td>1489.0</td>\n",
       "      <td>masculine</td>\n",
       "      <td>9.0</td>\n",
       "      <td>zoocamp</td>\n",
       "      <td>1</td>\n",
       "      <td>0</td>\n",
       "      <td>0</td>\n",
       "      <td>1.0</td>\n",
       "      <td>invertebrates</td>\n",
       "      <td>0</td>\n",
       "      <td>...</td>\n",
       "      <td>2022</td>\n",
       "      <td>NaN</td>\n",
       "      <td>0</td>\n",
       "      <td>1489.0</td>\n",
       "      <td>130.38</td>\n",
       "      <td>13.0</td>\n",
       "      <td>1694.94</td>\n",
       "      <td>WILD Steward</td>\n",
       "      <td>2022.0</td>\n",
       "      <td>6.0</td>\n",
       "    </tr>\n",
       "    <tr>\n",
       "      <th>4</th>\n",
       "      <td>1489.0</td>\n",
       "      <td>masculine</td>\n",
       "      <td>9.0</td>\n",
       "      <td>zoocamp</td>\n",
       "      <td>1</td>\n",
       "      <td>0</td>\n",
       "      <td>0</td>\n",
       "      <td>1.0</td>\n",
       "      <td>invertebrates</td>\n",
       "      <td>0</td>\n",
       "      <td>...</td>\n",
       "      <td>2022</td>\n",
       "      <td>NaN</td>\n",
       "      <td>0</td>\n",
       "      <td>1489.0</td>\n",
       "      <td>123.80</td>\n",
       "      <td>13.0</td>\n",
       "      <td>1609.40</td>\n",
       "      <td>WILD Steward</td>\n",
       "      <td>2022.0</td>\n",
       "      <td>7.0</td>\n",
       "    </tr>\n",
       "  </tbody>\n",
       "</table>\n",
       "<p>5 rows × 23 columns</p>\n",
       "</div>"
      ],
      "text/plain": [
       "   ID Number Preferred Pronouns  Current Grade Level  Program  \\\n",
       "0     1489.0          masculine                  9.0  zoocamp   \n",
       "1     1489.0          masculine                  9.0  zoocamp   \n",
       "2     1489.0          masculine                  9.0  zoocamp   \n",
       "3     1489.0          masculine                  9.0  zoocamp   \n",
       "4     1489.0          masculine                  9.0  zoocamp   \n",
       "\n",
       "   First Paying Job  Know employee  Applied Before  \\\n",
       "0                 1              0               0   \n",
       "1                 1              0               0   \n",
       "2                 1              0               0   \n",
       "3                 1              0               0   \n",
       "4                 1              0               0   \n",
       "\n",
       "   Comfortable speaking to crowd Uncomfortable with  Extra activities  ...  \\\n",
       "0                            1.0      invertebrates                 0  ...   \n",
       "1                            1.0      invertebrates                 0  ...   \n",
       "2                            1.0      invertebrates                 0  ...   \n",
       "3                            1.0      invertebrates                 0  ...   \n",
       "4                            1.0      invertebrates                 0  ...   \n",
       "\n",
       "  Application Year Current Age Rejected  EECode  EarnHours  EarnRate  \\\n",
       "0             2022         NaN        0  1489.0       5.50      13.0   \n",
       "1             2022         NaN        0  1489.0      14.47      13.0   \n",
       "2             2022         NaN        0  1489.0       7.13      13.0   \n",
       "3             2022         NaN        0  1489.0     130.38      13.0   \n",
       "4             2022         NaN        0  1489.0     123.80      13.0   \n",
       "\n",
       "   EarnAmount  Dist Position Desc    Year  Month  \n",
       "0       71.50        WILD Steward  2022.0    4.0  \n",
       "1      188.11        WILD Steward  2022.0    5.0  \n",
       "2       92.69        WILD Steward  2022.0    5.0  \n",
       "3     1694.94        WILD Steward  2022.0    6.0  \n",
       "4     1609.40        WILD Steward  2022.0    7.0  \n",
       "\n",
       "[5 rows x 23 columns]"
      ]
     },
     "execution_count": 268,
     "metadata": {},
     "output_type": "execute_result"
    }
   ],
   "source": [
    "data_raw.head()"
   ]
  },
  {
   "cell_type": "markdown",
   "metadata": {},
   "source": [
    "## Define X, y and prepare data for modeling"
   ]
  },
  {
   "cell_type": "code",
   "execution_count": 269,
   "metadata": {},
   "outputs": [
    {
     "data": {
      "text/plain": [
       "Index(['ID Number', 'Current Grade Level', 'Application Year', 'Current Age',\n",
       "       'Rejected', 'EECode', 'EarnHours_Sum_AvgPerMonth',\n",
       "       'Preferred Pronouns_feminine', 'Preferred Pronouns_masculine',\n",
       "       'Preferred Pronouns_neutral', 'Preferred Pronouns_unknown',\n",
       "       'Program_homeschool', 'Program_other', 'Program_unknown',\n",
       "       'Program_zoocamp', 'First Paying Job_0', 'First Paying Job_1',\n",
       "       'Know employee_0', 'Know employee_1', 'Applied Before_0',\n",
       "       'Applied Before_1', 'Comfortable speaking to crowd_0.0',\n",
       "       'Comfortable speaking to crowd_1.0',\n",
       "       'Comfortable speaking to crowd_unknown', 'Uncomfortable with_birds',\n",
       "       'Uncomfortable with_invertebrates', 'Uncomfortable with_mammals',\n",
       "       'Uncomfortable with_none', 'Uncomfortable with_reptiles',\n",
       "       'Uncomfortable with_unknown', 'Extra activities_0',\n",
       "       'Extra activities_1', 'Commit Summer_unknown', 'Commit Summer_unsure',\n",
       "       'Commit Summer_yes', 'Commit Weekday_no', 'Commit Weekday_unknown',\n",
       "       'Commit Weekday_unsure', 'Commit Weekday_yes',\n",
       "       'Hear about source_family', 'Hear about source_friend',\n",
       "       'Hear about source_other', 'Hear about source_school',\n",
       "       'Hear about source_social media', 'Hear about source_unknown'],\n",
       "      dtype='object')"
      ]
     },
     "execution_count": 269,
     "metadata": {},
     "output_type": "execute_result"
    }
   ],
   "source": [
    "data.columns"
   ]
  },
  {
   "cell_type": "code",
   "execution_count": 270,
   "metadata": {},
   "outputs": [],
   "source": [
    "# Drop a column from one hot encoded values, specifically drop the _unknown columns where possible\n",
    "# Pronouns have to be removed since they introduce perfect colinearity\n",
    "X = data[['Current Grade Level', 'Application Year', 'Current Age','Program_homeschool', 'Program_other',\n",
    "       'Program_zoocamp', 'First Paying Job_1',\n",
    "       'Know employee_1',\n",
    "       'Applied Before_1', 'Comfortable speaking to crowd_0.0',\n",
    "       'Comfortable speaking to crowd_1.0',\n",
    "       'Uncomfortable with_birds',\n",
    "       'Uncomfortable with_invertebrates', 'Uncomfortable with_mammals',\n",
    "       'Uncomfortable with_none', 'Uncomfortable with_reptiles',\n",
    "       'Extra activities_1', 'Commit Summer_unsure',\n",
    "       'Commit Summer_yes', 'Commit Weekday_no', \n",
    "       'Commit Weekday_unsure', 'Commit Weekday_yes',\n",
    "       'Hear about source_family', 'Hear about source_friend',\n",
    "       'Hear about source_other', 'Hear about source_school',\n",
    "       'Hear about source_social media']]\n",
    "\n",
    "y = data['Rejected']"
   ]
  },
  {
   "cell_type": "code",
   "execution_count": 271,
   "metadata": {},
   "outputs": [
    {
     "name": "stdout",
     "output_type": "stream",
     "text": [
      "First Paying Job_1, Know employee_1: 289\n",
      "Know employee_1, First Paying Job_1: 289\n"
     ]
    }
   ],
   "source": [
    "# Identify perfect multicollinearity\n",
    "for i,a in enumerate(X.columns):\n",
    "    for j,b in enumerate(X.columns):\n",
    "        k = sum(X[X.columns[i]]+X[X.columns[j]])\n",
    "        if k == len(X):\n",
    "            print(f\"{a}, {b}: {k}\")"
   ]
  },
  {
   "cell_type": "code",
   "execution_count": 272,
   "metadata": {},
   "outputs": [],
   "source": [
    "X = X.drop(columns = ['Know employee_1'])"
   ]
  },
  {
   "cell_type": "code",
   "execution_count": 273,
   "metadata": {},
   "outputs": [
    {
     "data": {
      "text/html": [
       "<div>\n",
       "<style scoped>\n",
       "    .dataframe tbody tr th:only-of-type {\n",
       "        vertical-align: middle;\n",
       "    }\n",
       "\n",
       "    .dataframe tbody tr th {\n",
       "        vertical-align: top;\n",
       "    }\n",
       "\n",
       "    .dataframe thead th {\n",
       "        text-align: right;\n",
       "    }\n",
       "</style>\n",
       "<table border=\"1\" class=\"dataframe\">\n",
       "  <thead>\n",
       "    <tr style=\"text-align: right;\">\n",
       "      <th></th>\n",
       "      <th>Current Grade Level</th>\n",
       "      <th>Application Year</th>\n",
       "      <th>Current Age</th>\n",
       "      <th>Program_homeschool</th>\n",
       "      <th>Program_other</th>\n",
       "      <th>Program_zoocamp</th>\n",
       "      <th>First Paying Job_1</th>\n",
       "      <th>Applied Before_1</th>\n",
       "      <th>Comfortable speaking to crowd_0.0</th>\n",
       "      <th>Comfortable speaking to crowd_1.0</th>\n",
       "      <th>...</th>\n",
       "      <th>Commit Summer_unsure</th>\n",
       "      <th>Commit Summer_yes</th>\n",
       "      <th>Commit Weekday_no</th>\n",
       "      <th>Commit Weekday_unsure</th>\n",
       "      <th>Commit Weekday_yes</th>\n",
       "      <th>Hear about source_family</th>\n",
       "      <th>Hear about source_friend</th>\n",
       "      <th>Hear about source_other</th>\n",
       "      <th>Hear about source_school</th>\n",
       "      <th>Hear about source_social media</th>\n",
       "    </tr>\n",
       "  </thead>\n",
       "  <tbody>\n",
       "    <tr>\n",
       "      <th>0</th>\n",
       "      <td>9.0</td>\n",
       "      <td>2022</td>\n",
       "      <td>15.339623</td>\n",
       "      <td>0</td>\n",
       "      <td>0</td>\n",
       "      <td>1</td>\n",
       "      <td>1</td>\n",
       "      <td>0</td>\n",
       "      <td>0</td>\n",
       "      <td>1</td>\n",
       "      <td>...</td>\n",
       "      <td>0</td>\n",
       "      <td>1</td>\n",
       "      <td>0</td>\n",
       "      <td>0</td>\n",
       "      <td>1</td>\n",
       "      <td>0</td>\n",
       "      <td>0</td>\n",
       "      <td>1</td>\n",
       "      <td>0</td>\n",
       "      <td>0</td>\n",
       "    </tr>\n",
       "    <tr>\n",
       "      <th>1</th>\n",
       "      <td>11.0</td>\n",
       "      <td>2022</td>\n",
       "      <td>15.339623</td>\n",
       "      <td>0</td>\n",
       "      <td>1</td>\n",
       "      <td>0</td>\n",
       "      <td>0</td>\n",
       "      <td>0</td>\n",
       "      <td>0</td>\n",
       "      <td>1</td>\n",
       "      <td>...</td>\n",
       "      <td>1</td>\n",
       "      <td>0</td>\n",
       "      <td>0</td>\n",
       "      <td>0</td>\n",
       "      <td>1</td>\n",
       "      <td>0</td>\n",
       "      <td>0</td>\n",
       "      <td>1</td>\n",
       "      <td>0</td>\n",
       "      <td>0</td>\n",
       "    </tr>\n",
       "    <tr>\n",
       "      <th>2</th>\n",
       "      <td>11.0</td>\n",
       "      <td>2022</td>\n",
       "      <td>15.339623</td>\n",
       "      <td>0</td>\n",
       "      <td>1</td>\n",
       "      <td>0</td>\n",
       "      <td>0</td>\n",
       "      <td>0</td>\n",
       "      <td>0</td>\n",
       "      <td>1</td>\n",
       "      <td>...</td>\n",
       "      <td>0</td>\n",
       "      <td>1</td>\n",
       "      <td>0</td>\n",
       "      <td>0</td>\n",
       "      <td>1</td>\n",
       "      <td>0</td>\n",
       "      <td>1</td>\n",
       "      <td>0</td>\n",
       "      <td>0</td>\n",
       "      <td>0</td>\n",
       "    </tr>\n",
       "    <tr>\n",
       "      <th>3</th>\n",
       "      <td>9.0</td>\n",
       "      <td>2022</td>\n",
       "      <td>15.339623</td>\n",
       "      <td>0</td>\n",
       "      <td>1</td>\n",
       "      <td>0</td>\n",
       "      <td>0</td>\n",
       "      <td>0</td>\n",
       "      <td>0</td>\n",
       "      <td>1</td>\n",
       "      <td>...</td>\n",
       "      <td>0</td>\n",
       "      <td>1</td>\n",
       "      <td>0</td>\n",
       "      <td>0</td>\n",
       "      <td>1</td>\n",
       "      <td>0</td>\n",
       "      <td>0</td>\n",
       "      <td>1</td>\n",
       "      <td>0</td>\n",
       "      <td>0</td>\n",
       "    </tr>\n",
       "    <tr>\n",
       "      <th>4</th>\n",
       "      <td>10.0</td>\n",
       "      <td>2022</td>\n",
       "      <td>15.339623</td>\n",
       "      <td>0</td>\n",
       "      <td>1</td>\n",
       "      <td>0</td>\n",
       "      <td>0</td>\n",
       "      <td>0</td>\n",
       "      <td>0</td>\n",
       "      <td>1</td>\n",
       "      <td>...</td>\n",
       "      <td>1</td>\n",
       "      <td>0</td>\n",
       "      <td>0</td>\n",
       "      <td>1</td>\n",
       "      <td>0</td>\n",
       "      <td>0</td>\n",
       "      <td>0</td>\n",
       "      <td>1</td>\n",
       "      <td>0</td>\n",
       "      <td>0</td>\n",
       "    </tr>\n",
       "    <tr>\n",
       "      <th>...</th>\n",
       "      <td>...</td>\n",
       "      <td>...</td>\n",
       "      <td>...</td>\n",
       "      <td>...</td>\n",
       "      <td>...</td>\n",
       "      <td>...</td>\n",
       "      <td>...</td>\n",
       "      <td>...</td>\n",
       "      <td>...</td>\n",
       "      <td>...</td>\n",
       "      <td>...</td>\n",
       "      <td>...</td>\n",
       "      <td>...</td>\n",
       "      <td>...</td>\n",
       "      <td>...</td>\n",
       "      <td>...</td>\n",
       "      <td>...</td>\n",
       "      <td>...</td>\n",
       "      <td>...</td>\n",
       "      <td>...</td>\n",
       "      <td>...</td>\n",
       "    </tr>\n",
       "    <tr>\n",
       "      <th>284</th>\n",
       "      <td>11.0</td>\n",
       "      <td>2020</td>\n",
       "      <td>16.000000</td>\n",
       "      <td>0</td>\n",
       "      <td>0</td>\n",
       "      <td>0</td>\n",
       "      <td>0</td>\n",
       "      <td>0</td>\n",
       "      <td>0</td>\n",
       "      <td>0</td>\n",
       "      <td>...</td>\n",
       "      <td>0</td>\n",
       "      <td>1</td>\n",
       "      <td>0</td>\n",
       "      <td>0</td>\n",
       "      <td>1</td>\n",
       "      <td>0</td>\n",
       "      <td>0</td>\n",
       "      <td>0</td>\n",
       "      <td>1</td>\n",
       "      <td>0</td>\n",
       "    </tr>\n",
       "    <tr>\n",
       "      <th>285</th>\n",
       "      <td>10.0</td>\n",
       "      <td>2020</td>\n",
       "      <td>15.000000</td>\n",
       "      <td>0</td>\n",
       "      <td>0</td>\n",
       "      <td>0</td>\n",
       "      <td>1</td>\n",
       "      <td>0</td>\n",
       "      <td>0</td>\n",
       "      <td>1</td>\n",
       "      <td>...</td>\n",
       "      <td>0</td>\n",
       "      <td>1</td>\n",
       "      <td>0</td>\n",
       "      <td>0</td>\n",
       "      <td>1</td>\n",
       "      <td>0</td>\n",
       "      <td>0</td>\n",
       "      <td>1</td>\n",
       "      <td>0</td>\n",
       "      <td>0</td>\n",
       "    </tr>\n",
       "    <tr>\n",
       "      <th>286</th>\n",
       "      <td>10.0</td>\n",
       "      <td>2020</td>\n",
       "      <td>15.000000</td>\n",
       "      <td>0</td>\n",
       "      <td>0</td>\n",
       "      <td>0</td>\n",
       "      <td>1</td>\n",
       "      <td>0</td>\n",
       "      <td>0</td>\n",
       "      <td>1</td>\n",
       "      <td>...</td>\n",
       "      <td>0</td>\n",
       "      <td>0</td>\n",
       "      <td>0</td>\n",
       "      <td>0</td>\n",
       "      <td>1</td>\n",
       "      <td>0</td>\n",
       "      <td>0</td>\n",
       "      <td>0</td>\n",
       "      <td>1</td>\n",
       "      <td>0</td>\n",
       "    </tr>\n",
       "    <tr>\n",
       "      <th>287</th>\n",
       "      <td>10.0</td>\n",
       "      <td>2020</td>\n",
       "      <td>15.000000</td>\n",
       "      <td>0</td>\n",
       "      <td>0</td>\n",
       "      <td>0</td>\n",
       "      <td>1</td>\n",
       "      <td>0</td>\n",
       "      <td>0</td>\n",
       "      <td>0</td>\n",
       "      <td>...</td>\n",
       "      <td>0</td>\n",
       "      <td>1</td>\n",
       "      <td>0</td>\n",
       "      <td>0</td>\n",
       "      <td>1</td>\n",
       "      <td>0</td>\n",
       "      <td>0</td>\n",
       "      <td>0</td>\n",
       "      <td>1</td>\n",
       "      <td>0</td>\n",
       "    </tr>\n",
       "    <tr>\n",
       "      <th>288</th>\n",
       "      <td>10.0</td>\n",
       "      <td>2020</td>\n",
       "      <td>16.000000</td>\n",
       "      <td>0</td>\n",
       "      <td>0</td>\n",
       "      <td>0</td>\n",
       "      <td>0</td>\n",
       "      <td>0</td>\n",
       "      <td>0</td>\n",
       "      <td>0</td>\n",
       "      <td>...</td>\n",
       "      <td>0</td>\n",
       "      <td>1</td>\n",
       "      <td>0</td>\n",
       "      <td>0</td>\n",
       "      <td>1</td>\n",
       "      <td>0</td>\n",
       "      <td>0</td>\n",
       "      <td>0</td>\n",
       "      <td>1</td>\n",
       "      <td>0</td>\n",
       "    </tr>\n",
       "  </tbody>\n",
       "</table>\n",
       "<p>289 rows × 26 columns</p>\n",
       "</div>"
      ],
      "text/plain": [
       "     Current Grade Level  Application Year  Current Age  Program_homeschool  \\\n",
       "0                    9.0              2022    15.339623                   0   \n",
       "1                   11.0              2022    15.339623                   0   \n",
       "2                   11.0              2022    15.339623                   0   \n",
       "3                    9.0              2022    15.339623                   0   \n",
       "4                   10.0              2022    15.339623                   0   \n",
       "..                   ...               ...          ...                 ...   \n",
       "284                 11.0              2020    16.000000                   0   \n",
       "285                 10.0              2020    15.000000                   0   \n",
       "286                 10.0              2020    15.000000                   0   \n",
       "287                 10.0              2020    15.000000                   0   \n",
       "288                 10.0              2020    16.000000                   0   \n",
       "\n",
       "     Program_other  Program_zoocamp  First Paying Job_1  Applied Before_1  \\\n",
       "0                0                1                   1                 0   \n",
       "1                1                0                   0                 0   \n",
       "2                1                0                   0                 0   \n",
       "3                1                0                   0                 0   \n",
       "4                1                0                   0                 0   \n",
       "..             ...              ...                 ...               ...   \n",
       "284              0                0                   0                 0   \n",
       "285              0                0                   1                 0   \n",
       "286              0                0                   1                 0   \n",
       "287              0                0                   1                 0   \n",
       "288              0                0                   0                 0   \n",
       "\n",
       "     Comfortable speaking to crowd_0.0  Comfortable speaking to crowd_1.0  \\\n",
       "0                                    0                                  1   \n",
       "1                                    0                                  1   \n",
       "2                                    0                                  1   \n",
       "3                                    0                                  1   \n",
       "4                                    0                                  1   \n",
       "..                                 ...                                ...   \n",
       "284                                  0                                  0   \n",
       "285                                  0                                  1   \n",
       "286                                  0                                  1   \n",
       "287                                  0                                  0   \n",
       "288                                  0                                  0   \n",
       "\n",
       "     ...  Commit Summer_unsure  Commit Summer_yes  Commit Weekday_no  \\\n",
       "0    ...                     0                  1                  0   \n",
       "1    ...                     1                  0                  0   \n",
       "2    ...                     0                  1                  0   \n",
       "3    ...                     0                  1                  0   \n",
       "4    ...                     1                  0                  0   \n",
       "..   ...                   ...                ...                ...   \n",
       "284  ...                     0                  1                  0   \n",
       "285  ...                     0                  1                  0   \n",
       "286  ...                     0                  0                  0   \n",
       "287  ...                     0                  1                  0   \n",
       "288  ...                     0                  1                  0   \n",
       "\n",
       "     Commit Weekday_unsure  Commit Weekday_yes  Hear about source_family  \\\n",
       "0                        0                   1                         0   \n",
       "1                        0                   1                         0   \n",
       "2                        0                   1                         0   \n",
       "3                        0                   1                         0   \n",
       "4                        1                   0                         0   \n",
       "..                     ...                 ...                       ...   \n",
       "284                      0                   1                         0   \n",
       "285                      0                   1                         0   \n",
       "286                      0                   1                         0   \n",
       "287                      0                   1                         0   \n",
       "288                      0                   1                         0   \n",
       "\n",
       "     Hear about source_friend  Hear about source_other  \\\n",
       "0                           0                        1   \n",
       "1                           0                        1   \n",
       "2                           1                        0   \n",
       "3                           0                        1   \n",
       "4                           0                        1   \n",
       "..                        ...                      ...   \n",
       "284                         0                        0   \n",
       "285                         0                        1   \n",
       "286                         0                        0   \n",
       "287                         0                        0   \n",
       "288                         0                        0   \n",
       "\n",
       "     Hear about source_school  Hear about source_social media  \n",
       "0                           0                               0  \n",
       "1                           0                               0  \n",
       "2                           0                               0  \n",
       "3                           0                               0  \n",
       "4                           0                               0  \n",
       "..                        ...                             ...  \n",
       "284                         1                               0  \n",
       "285                         0                               0  \n",
       "286                         1                               0  \n",
       "287                         1                               0  \n",
       "288                         1                               0  \n",
       "\n",
       "[289 rows x 26 columns]"
      ]
     },
     "execution_count": 273,
     "metadata": {},
     "output_type": "execute_result"
    }
   ],
   "source": [
    "X"
   ]
  },
  {
   "cell_type": "markdown",
   "metadata": {},
   "source": [
    "## Check results of logistic regression"
   ]
  },
  {
   "cell_type": "code",
   "execution_count": 274,
   "metadata": {},
   "outputs": [
    {
     "name": "stdout",
     "output_type": "stream",
     "text": [
      "Warning: Maximum number of iterations has been exceeded.\n",
      "         Current function value: 0.313787\n",
      "         Iterations: 35\n",
      "                           Logit Regression Results                           \n",
      "==============================================================================\n",
      "Dep. Variable:               Rejected   No. Observations:                  289\n",
      "Model:                          Logit   Df Residuals:                      263\n",
      "Method:                           MLE   Df Model:                           25\n",
      "Date:                Tue, 21 Feb 2023   Pseudo R-squ.:                  0.1799\n",
      "Time:                        23:11:52   Log-Likelihood:                -90.684\n",
      "converged:                      False   LL-Null:                       -110.58\n",
      "Covariance Type:            nonrobust   LLR p-value:                   0.03068\n",
      "=====================================================================================================\n",
      "                                        coef    std err          z      P>|z|      [0.025      0.975]\n",
      "-----------------------------------------------------------------------------------------------------\n",
      "Current Grade Level                   0.0358      0.263      0.136      0.892      -0.480       0.552\n",
      "Application Year                      0.0142      0.043      0.328      0.743      -0.070       0.099\n",
      "Current Age                           0.2341      0.282      0.830      0.407      -0.319       0.787\n",
      "Program_homeschool                   -0.8068      1.380     -0.585      0.559      -3.511       1.898\n",
      "Program_other                        -1.3647      0.603     -2.262      0.024      -2.547      -0.182\n",
      "Program_zoocamp                      -0.9448      0.985     -0.959      0.338      -2.876       0.986\n",
      "First Paying Job_1                   -0.4032      0.545     -0.739      0.460      -1.472       0.666\n",
      "Applied Before_1                     -0.0602      0.631     -0.095      0.924      -1.297       1.176\n",
      "Comfortable speaking to crowd_0.0    -0.1904      1.226     -0.155      0.877      -2.594       2.213\n",
      "Comfortable speaking to crowd_1.0    -0.5618      0.541     -1.038      0.299      -1.622       0.499\n",
      "Uncomfortable with_birds             12.0341   1.01e+04      0.001      0.999   -1.98e+04    1.98e+04\n",
      "Uncomfortable with_invertebrates     -7.2716     43.693     -0.166      0.868     -92.907      78.364\n",
      "Uncomfortable with_mammals           -6.0788     43.706     -0.139      0.889     -91.742      79.584\n",
      "Uncomfortable with_none              -7.0546     43.691     -0.161      0.872     -92.687      78.578\n",
      "Uncomfortable with_reptiles          -7.4812     43.691     -0.171      0.864     -93.114      78.152\n",
      "Extra activities_1                    0.1600      0.593      0.270      0.787      -1.003       1.323\n",
      "Commit Summer_unsure                 -6.9424     43.675     -0.159      0.874     -92.544      78.659\n",
      "Commit Summer_yes                    -7.7541     43.666     -0.178      0.859     -93.338      77.830\n",
      "Commit Weekday_no                     3.7227    690.219      0.005      0.996   -1349.081    1356.527\n",
      "Commit Weekday_unsure                15.7940   5.79e+04      0.000      1.000   -1.13e+05    1.13e+05\n",
      "Commit Weekday_yes                   -7.6145     43.662     -0.174      0.862     -93.190      77.961\n",
      "Hear about source_family             -8.8139     43.704     -0.202      0.840     -94.473      76.845\n",
      "Hear about source_friend             -7.2233     43.671     -0.165      0.869     -92.816      78.370\n",
      "Hear about source_other              -7.6183     43.669     -0.174      0.862     -93.208      77.971\n",
      "Hear about source_school             -6.8661     43.669     -0.157      0.875     -92.456      78.724\n",
      "Hear about source_social media       -8.1697     43.673     -0.187      0.852     -93.768      77.428\n",
      "=====================================================================================================\n",
      "\n",
      "Possibly complete quasi-separation: A fraction 0.18 of observations can be\n",
      "perfectly predicted. This might indicate that there is complete\n",
      "quasi-separation. In this case some parameters will not be identified.\n"
     ]
    },
    {
     "name": "stderr",
     "output_type": "stream",
     "text": [
      "C:\\Users\\lawto\\anaconda3\\lib\\site-packages\\statsmodels\\base\\model.py:604: ConvergenceWarning: Maximum Likelihood optimization failed to converge. Check mle_retvals\n",
      "  warnings.warn(\"Maximum Likelihood optimization failed to \"\n"
     ]
    }
   ],
   "source": [
    "# with statsmodels \n",
    "model = sm.Logit(y, X).fit()\n",
    "predictions = model.predict(X) \n",
    " \n",
    "print_model = model.summary()\n",
    "print(print_model)"
   ]
  },
  {
   "cell_type": "markdown",
   "metadata": {},
   "source": [
    "## Is a regularized model better?"
   ]
  },
  {
   "cell_type": "code",
   "execution_count": 279,
   "metadata": {},
   "outputs": [],
   "source": [
    "X_train, X_test, y_train, y_test = train_test_split(X, y, test_size=0.2, random_state=42)"
   ]
  },
  {
   "cell_type": "code",
   "execution_count": 280,
   "metadata": {},
   "outputs": [
    {
     "data": {
      "text/plain": [
       "LogisticRegression(solver='liblinear')"
      ]
     },
     "execution_count": 280,
     "metadata": {},
     "output_type": "execute_result"
    }
   ],
   "source": [
    "model = LogisticRegression(solver='liblinear')\n",
    "model.fit(X_train, y_train)"
   ]
  },
  {
   "cell_type": "code",
   "execution_count": 281,
   "metadata": {},
   "outputs": [],
   "source": [
    "def get_model_preds(X, betas):\n",
    "    xtb = np.dot(X, betas)\n",
    "    probs = 1 / (1+np.exp(-xtb))\n",
    "    preds = (probs > 0.5)*2-1 # convert preds to +/- 1\n",
    "    return probs, preds\n",
    "\n",
    "def acc(preds, truth):\n",
    "    return np.mean(preds==truth)"
   ]
  },
  {
   "cell_type": "code",
   "execution_count": 284,
   "metadata": {},
   "outputs": [
    {
     "name": "stdout",
     "output_type": "stream",
     "text": [
      "baseline prediction: 0.8620689655172413\n",
      "train accuracy: 0.8744588744588745\n",
      "test accuracy: 0.8620689655172413\n"
     ]
    }
   ],
   "source": [
    "preds = model.predict(X_train)\n",
    "preds_test = model.predict(X_test)\n",
    "\n",
    "print(f\"baseline prediction: {np.mean(y_test==1)}\") # constant predictor\n",
    "print(f\"train accuracy: {acc(preds, y_train)}\")\n",
    "print(f\"test accuracy: {acc(preds_test, y_test)}\")"
   ]
  },
  {
   "cell_type": "code",
   "execution_count": 286,
   "metadata": {},
   "outputs": [
    {
     "data": {
      "text/plain": [
       "0.635"
      ]
     },
     "execution_count": 286,
     "metadata": {},
     "output_type": "execute_result"
    }
   ],
   "source": [
    "# check auc score\n",
    "roc_auc_score(y_test, model.predict_proba(X_test)[:,1])"
   ]
  },
  {
   "cell_type": "markdown",
   "metadata": {},
   "source": [
    "## what if we tune our hyperparameter?"
   ]
  },
  {
   "cell_type": "code",
   "execution_count": 290,
   "metadata": {},
   "outputs": [
    {
     "name": "stderr",
     "output_type": "stream",
     "text": [
      "C:\\Users\\lawto\\anaconda3\\lib\\site-packages\\sklearn\\linear_model\\_logistic.py:814: ConvergenceWarning: lbfgs failed to converge (status=1):\n",
      "STOP: TOTAL NO. of ITERATIONS REACHED LIMIT.\n",
      "\n",
      "Increase the number of iterations (max_iter) or scale the data as shown in:\n",
      "    https://scikit-learn.org/stable/modules/preprocessing.html\n",
      "Please also refer to the documentation for alternative solver options:\n",
      "    https://scikit-learn.org/stable/modules/linear_model.html#logistic-regression\n",
      "  n_iter_i = _check_optimize_result(\n",
      "C:\\Users\\lawto\\anaconda3\\lib\\site-packages\\sklearn\\linear_model\\_logistic.py:814: ConvergenceWarning: lbfgs failed to converge (status=1):\n",
      "STOP: TOTAL NO. of ITERATIONS REACHED LIMIT.\n",
      "\n",
      "Increase the number of iterations (max_iter) or scale the data as shown in:\n",
      "    https://scikit-learn.org/stable/modules/preprocessing.html\n",
      "Please also refer to the documentation for alternative solver options:\n",
      "    https://scikit-learn.org/stable/modules/linear_model.html#logistic-regression\n",
      "  n_iter_i = _check_optimize_result(\n"
     ]
    },
    {
     "data": {
      "text/plain": [
       "0.0001"
      ]
     },
     "execution_count": 290,
     "metadata": {},
     "output_type": "execute_result"
    }
   ],
   "source": [
    "cvres = LogisticRegressionCV(Cs=50).fit(X_train,y_train)\n",
    "C = cvres.C_[0]\n",
    "C"
   ]
  },
  {
   "cell_type": "code",
   "execution_count": 291,
   "metadata": {},
   "outputs": [
    {
     "data": {
      "text/plain": [
       "LogisticRegression(C=0.0001, solver='liblinear')"
      ]
     },
     "execution_count": 291,
     "metadata": {},
     "output_type": "execute_result"
    }
   ],
   "source": [
    "lr = LogisticRegression(C = C, solver='liblinear')\n",
    "lr.fit(X_train, y_train)"
   ]
  },
  {
   "cell_type": "code",
   "execution_count": 293,
   "metadata": {},
   "outputs": [
    {
     "name": "stdout",
     "output_type": "stream",
     "text": [
      "baseline prediction: 0.8620689655172413\n",
      "train accuracy: 0.8744588744588745\n",
      "test accuracy: 0.8620689655172413\n"
     ]
    }
   ],
   "source": [
    "preds = lr.predict(X_train)\n",
    "preds_test = lr.predict(X_test)\n",
    "\n",
    "print(f\"baseline prediction: {np.mean(y_test==1)}\") # constant predictor\n",
    "print(f\"train accuracy: {acc(preds, y_train)}\")\n",
    "print(f\"test accuracy: {acc(preds_test, y_test)}\")"
   ]
  },
  {
   "cell_type": "code",
   "execution_count": 294,
   "metadata": {},
   "outputs": [
    {
     "data": {
      "text/plain": [
       "0.635"
      ]
     },
     "execution_count": 294,
     "metadata": {},
     "output_type": "execute_result"
    }
   ],
   "source": [
    "# check auc score\n",
    "roc_auc_score(y_test, model.predict_proba(X_test)[:,1])\n",
    "\n",
    "# the model always predicts 1..."
   ]
  },
  {
   "cell_type": "markdown",
   "metadata": {},
   "source": [
    "## Use SMOTE to address the fact that we have a huge class imbalance, and very few observations in the positive class"
   ]
  },
  {
   "cell_type": "code",
   "execution_count": 319,
   "metadata": {},
   "outputs": [
    {
     "name": "stdout",
     "output_type": "stream",
     "text": [
      "total synthetic obs: 404\n",
      "positive synthetic obs: 202\n"
     ]
    }
   ],
   "source": [
    "# use SMOTE to balance classes\n",
    "oversample = imblearn.over_sampling.SMOTE(random_state = 42)\n",
    "X_train_o, y_train_o = oversample.fit_resample(X_train, y_train)\n",
    "\n",
    "print(f\"total synthetic obs: {len(y_train_o)}\")\n",
    "print(f\"positive synthetic obs: {sum(y_train_o)}\")"
   ]
  },
  {
   "cell_type": "code",
   "execution_count": 320,
   "metadata": {},
   "outputs": [
    {
     "name": "stderr",
     "output_type": "stream",
     "text": [
      "C:\\Users\\lawto\\anaconda3\\lib\\site-packages\\sklearn\\linear_model\\_logistic.py:814: ConvergenceWarning: lbfgs failed to converge (status=1):\n",
      "STOP: TOTAL NO. of ITERATIONS REACHED LIMIT.\n",
      "\n",
      "Increase the number of iterations (max_iter) or scale the data as shown in:\n",
      "    https://scikit-learn.org/stable/modules/preprocessing.html\n",
      "Please also refer to the documentation for alternative solver options:\n",
      "    https://scikit-learn.org/stable/modules/linear_model.html#logistic-regression\n",
      "  n_iter_i = _check_optimize_result(\n",
      "C:\\Users\\lawto\\anaconda3\\lib\\site-packages\\sklearn\\linear_model\\_logistic.py:814: ConvergenceWarning: lbfgs failed to converge (status=1):\n",
      "STOP: TOTAL NO. of ITERATIONS REACHED LIMIT.\n",
      "\n",
      "Increase the number of iterations (max_iter) or scale the data as shown in:\n",
      "    https://scikit-learn.org/stable/modules/preprocessing.html\n",
      "Please also refer to the documentation for alternative solver options:\n",
      "    https://scikit-learn.org/stable/modules/linear_model.html#logistic-regression\n",
      "  n_iter_i = _check_optimize_result(\n",
      "C:\\Users\\lawto\\anaconda3\\lib\\site-packages\\sklearn\\linear_model\\_logistic.py:814: ConvergenceWarning: lbfgs failed to converge (status=1):\n",
      "STOP: TOTAL NO. of ITERATIONS REACHED LIMIT.\n",
      "\n",
      "Increase the number of iterations (max_iter) or scale the data as shown in:\n",
      "    https://scikit-learn.org/stable/modules/preprocessing.html\n",
      "Please also refer to the documentation for alternative solver options:\n",
      "    https://scikit-learn.org/stable/modules/linear_model.html#logistic-regression\n",
      "  n_iter_i = _check_optimize_result(\n"
     ]
    },
    {
     "name": "stdout",
     "output_type": "stream",
     "text": [
      "best C: 16.768329368110066\n"
     ]
    },
    {
     "name": "stderr",
     "output_type": "stream",
     "text": [
      "C:\\Users\\lawto\\anaconda3\\lib\\site-packages\\sklearn\\linear_model\\_logistic.py:814: ConvergenceWarning: lbfgs failed to converge (status=1):\n",
      "STOP: TOTAL NO. of ITERATIONS REACHED LIMIT.\n",
      "\n",
      "Increase the number of iterations (max_iter) or scale the data as shown in:\n",
      "    https://scikit-learn.org/stable/modules/preprocessing.html\n",
      "Please also refer to the documentation for alternative solver options:\n",
      "    https://scikit-learn.org/stable/modules/linear_model.html#logistic-regression\n",
      "  n_iter_i = _check_optimize_result(\n",
      "C:\\Users\\lawto\\anaconda3\\lib\\site-packages\\sklearn\\linear_model\\_logistic.py:814: ConvergenceWarning: lbfgs failed to converge (status=1):\n",
      "STOP: TOTAL NO. of ITERATIONS REACHED LIMIT.\n",
      "\n",
      "Increase the number of iterations (max_iter) or scale the data as shown in:\n",
      "    https://scikit-learn.org/stable/modules/preprocessing.html\n",
      "Please also refer to the documentation for alternative solver options:\n",
      "    https://scikit-learn.org/stable/modules/linear_model.html#logistic-regression\n",
      "  n_iter_i = _check_optimize_result(\n"
     ]
    },
    {
     "data": {
      "text/plain": [
       "LogisticRegression(C=16.768329368110066, solver='liblinear')"
      ]
     },
     "execution_count": 320,
     "metadata": {},
     "output_type": "execute_result"
    }
   ],
   "source": [
    "# hyperparameter tune\n",
    "cvres_o = LogisticRegressionCV(Cs=50).fit(X_train_o,y_train_o)\n",
    "C = cvres_o.C_[0]\n",
    "print(f\"best C: {C}\")\n",
    "\n",
    "# fit model\n",
    "lr_best = LogisticRegression(C = C, solver='liblinear')\n",
    "lr_best.fit(X_train_o, y_train_o)"
   ]
  },
  {
   "cell_type": "code",
   "execution_count": 324,
   "metadata": {},
   "outputs": [
    {
     "name": "stdout",
     "output_type": "stream",
     "text": [
      "baseline prediction: 0.8620689655172413\n",
      "train accuracy: 0.7945544554455446\n",
      "test accuracy: 0.8103448275862069\n"
     ]
    }
   ],
   "source": [
    "preds = lr_best.predict(X_train_o)\n",
    "preds_test = lr_best.predict(X_test)\n",
    "\n",
    "print(f\"baseline prediction: {np.mean(y_test==1)}\") # constant predictor\n",
    "print(f\"train accuracy: {acc(preds, y_train_o)}\")\n",
    "print(f\"test accuracy: {acc(preds_test, y_test)}\")"
   ]
  },
  {
   "cell_type": "code",
   "execution_count": 326,
   "metadata": {},
   "outputs": [
    {
     "data": {
      "text/plain": [
       "0.445"
      ]
     },
     "execution_count": 326,
     "metadata": {},
     "output_type": "execute_result"
    }
   ],
   "source": [
    "roc_auc_score(y_test, lr_best.predict_proba(X_test)[:,1])"
   ]
  }
 ],
 "metadata": {
  "kernelspec": {
   "display_name": "Python 3 (ipykernel)",
   "language": "python",
   "name": "python3"
  },
  "language_info": {
   "codemirror_mode": {
    "name": "ipython",
    "version": 3
   },
   "file_extension": ".py",
   "mimetype": "text/x-python",
   "name": "python",
   "nbconvert_exporter": "python",
   "pygments_lexer": "ipython3",
   "version": "3.8.5"
  },
  "vscode": {
   "interpreter": {
    "hash": "c673411fa54f8ed5d28bb0e436573ab3cf5603d5d55878f82d6d5532bbdce0b9"
   }
  }
 },
 "nbformat": 4,
 "nbformat_minor": 2
}
